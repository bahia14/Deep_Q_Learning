{
  "nbformat": 4,
  "nbformat_minor": 0,
  "metadata": {
    "colab": {
      "provenance": [],
      "mount_file_id": "1hLEoYQbXXQMWZyYp1vIQNDCVkFvBbnIc",
      "authorship_tag": "ABX9TyPgjlYSEKv0ma0IRL1gFrhB",
      "include_colab_link": true
    },
    "kernelspec": {
      "name": "python3",
      "display_name": "Python 3"
    },
    "language_info": {
      "name": "python"
    },
    "accelerator": "TPU"
  },
  "cells": [
    {
      "cell_type": "markdown",
      "metadata": {
        "id": "view-in-github",
        "colab_type": "text"
      },
      "source": [
        "<a href=\"https://colab.research.google.com/github/bahia14/Deep_Q_Learning/blob/main/Deep_Q_Learning.ipynb\" target=\"_parent\"><img src=\"https://colab.research.google.com/assets/colab-badge.svg\" alt=\"Open In Colab\"/></a>"
      ]
    },
    {
      "cell_type": "code",
      "execution_count": null,
      "metadata": {
        "colab": {
          "base_uri": "https://localhost:8080/",
          "height": 174
        },
        "id": "U-EtGY4-7hJt",
        "outputId": "d5288aec-b1ad-4674-904d-b2a8c9217245"
      },
      "outputs": [
        {
          "output_type": "execute_result",
          "data": {
            "text/plain": [
              "\"\\n\\nImplementing a Robot based on Deep Q-learning\\n\\npag 375\\n  83% accuracy pag 383\\n\\ncode from\\nhttps://github.com/PacktPublishing/Hands-On-Deep-Learning-for-Finance/blob/master/Training%20Trader%20Robots%20by%20Deep%20Reinforcement%20Learning/chapter12_main.ipynb\\n\\nhttps://keon.github.io/deep-q-learning/\\n\\n\\nhow to install TA-Lib\\n\\n!wget https://launchpad.net/~mario-mariomedina/+archive/ubuntu/talib/+files/libta-lib0_0.4.0-oneiric1_amd64.deb -qO libta.deb\\n!wget https://launchpad.net/~mario-mariomedina/+archive/ubuntu/talib/+files/ta-lib0-dev_0.4.0-oneiric1_amd64.deb -qO ta.deb\\n!dpkg -i libta.deb ta.deb\\n!pip install ta-lib\\n\\nimport os\\nos.chdir('G:\\\\Python Kalman\\\\Deep Q-learning')\\n\\n\""
            ],
            "application/vnd.google.colaboratory.intrinsic+json": {
              "type": "string"
            }
          },
          "metadata": {},
          "execution_count": 10
        }
      ],
      "source": [
        "'''\n",
        "\n",
        "Implementing a Robot based on Deep Q-learning\n",
        "\n",
        "pag 375\n",
        "  83% accuracy pag 383\n",
        "\n",
        "code from\n",
        "https://github.com/PacktPublishing/Hands-On-Deep-Learning-for-Finance/blob/master/Training%20Trader%20Robots%20by%20Deep%20Reinforcement%20Learning/chapter12_main.ipynb\n",
        "\n",
        "https://keon.github.io/deep-q-learning/\n",
        "\n",
        "\n",
        "how to install TA-Lib\n",
        "\n",
        "!wget https://launchpad.net/~mario-mariomedina/+archive/ubuntu/talib/+files/libta-lib0_0.4.0-oneiric1_amd64.deb -qO libta.deb\n",
        "!wget https://launchpad.net/~mario-mariomedina/+archive/ubuntu/talib/+files/ta-lib0-dev_0.4.0-oneiric1_amd64.deb -qO ta.deb\n",
        "!dpkg -i libta.deb ta.deb\n",
        "!pip install ta-lib\n",
        "\n",
        "import os\n",
        "os.chdir('G:\\Python Kalman\\Deep Q-learning')\n",
        "\n",
        "'''"
      ]
    },
    {
      "cell_type": "code",
      "source": [
        "!wget https://launchpad.net/~mario-mariomedina/+archive/ubuntu/talib/+files/libta-lib0_0.4.0-oneiric1_amd64.deb -qO libta.deb\n",
        "!wget https://launchpad.net/~mario-mariomedina/+archive/ubuntu/talib/+files/ta-lib0-dev_0.4.0-oneiric1_amd64.deb -qO ta.deb\n",
        "!dpkg -i libta.deb ta.deb\n",
        "!pip install ta-lib"
      ],
      "metadata": {
        "colab": {
          "base_uri": "https://localhost:8080/"
        },
        "id": "sF26zhpJ75AF",
        "outputId": "bd81befd-b27a-4d13-a4f3-bbc63dd788c5"
      },
      "execution_count": null,
      "outputs": [
        {
          "output_type": "stream",
          "name": "stdout",
          "text": [
            "(Reading database ... 120919 files and directories currently installed.)\n",
            "Preparing to unpack libta.deb ...\n",
            "Unpacking libta-lib0 (0.4.0-oneiric1) over (0.4.0-oneiric1) ...\n",
            "Preparing to unpack ta.deb ...\n",
            "Unpacking ta-lib0-dev (0.4.0-oneiric1) over (0.4.0-oneiric1) ...\n",
            "Setting up libta-lib0 (0.4.0-oneiric1) ...\n",
            "Setting up ta-lib0-dev (0.4.0-oneiric1) ...\n",
            "Processing triggers for man-db (2.10.2-1) ...\n",
            "Processing triggers for libc-bin (2.35-0ubuntu3.1) ...\n",
            "/sbin/ldconfig.real: /usr/local/lib/libtbbbind.so.3 is not a symbolic link\n",
            "\n",
            "/sbin/ldconfig.real: /usr/local/lib/libtbbbind_2_5.so.3 is not a symbolic link\n",
            "\n",
            "/sbin/ldconfig.real: /usr/local/lib/libtbbbind_2_0.so.3 is not a symbolic link\n",
            "\n",
            "/sbin/ldconfig.real: /usr/local/lib/libtbbmalloc_proxy.so.2 is not a symbolic link\n",
            "\n",
            "/sbin/ldconfig.real: /usr/local/lib/libtbb.so.12 is not a symbolic link\n",
            "\n",
            "/sbin/ldconfig.real: /usr/local/lib/libtbbmalloc.so.2 is not a symbolic link\n",
            "\n",
            "Requirement already satisfied: ta-lib in /usr/local/lib/python3.10/dist-packages (0.4.28)\n",
            "Requirement already satisfied: numpy in /usr/local/lib/python3.10/dist-packages (from ta-lib) (1.23.5)\n"
          ]
        }
      ]
    },
    {
      "cell_type": "code",
      "source": [
        "# Import libraries\n",
        "import pandas as pd\n",
        "import numpy as np\n",
        "import matplotlib.pyplot as plt\n",
        "\n",
        "from sklearn import preprocessing\n",
        "from sklearn.metrics import accuracy_score\n",
        "from sklearn.metrics import precision_recall_fscore_support\n",
        "\n",
        "import talib\n",
        "from Agent import Agent\n",
        "\n",
        "# Load NASDAQ-100 data\n",
        "#data_folder = '../Index Replication by Auto-encoders/data/'\n",
        "alldata = pd.read_pickle(\"/content/nasdaq100_6y.pkl\")\n",
        "\n",
        "# Stock symbol\n",
        "symbol = 'AAL'\n",
        "# Load close prices of to NumPy array\n",
        "close = alldata[symbol].values\n",
        "\n",
        "\n",
        "def prepare_dataset(close):\n",
        "    \"\"\"\n",
        "    Function prepare_dataset to generate input data and trading strategy from stock close prices\n",
        "    \"\"\"\n",
        "\n",
        "    macd, macdsignal, macdhist = talib.MACD(close, fastperiod=12, slowperiod=26, signalperiod=9)\n",
        "\n",
        "    # Cancel NaN values\n",
        "    macdhist = macdhist[~np.isnan(macdhist)]\n",
        "    macd = macd[-len(macdhist):]\n",
        "    macdsignal = macdsignal[-len(macdhist):]\n",
        "\n",
        "    # Scaling features to a range [0, 1]\n",
        "    min_max_scaler = preprocessing.MinMaxScaler(feature_range=(-1, 1))\n",
        "    macdhist_norm = min_max_scaler.fit_transform(np.expand_dims(macdhist, axis=1))\n",
        "\n",
        "    # Implement strategy\n",
        "    start_sell = 0.4\n",
        "    stop_sell = 0.1\n",
        "    start_buy = -0.4\n",
        "    stop_buy = -0.1\n",
        "\n",
        "    y = np.full(len(macdhist), np.nan)\n",
        "    y[0] = 0\n",
        "\n",
        "    for i in range(1, len(macdhist)):\n",
        "\n",
        "        if y[i-1] == 0:\n",
        "            if (macdhist_norm[i] >= start_sell):\n",
        "                # Enter sell position\n",
        "                y[i] = -1\n",
        "            elif (macdhist_norm[i] <= start_buy):\n",
        "                # Enter buy position\n",
        "                y[i] = 1\n",
        "            else:\n",
        "                y[i] = 0\n",
        "        elif y[i-1] == -1:\n",
        "            if macdhist_norm[i] > stop_sell:\n",
        "                # Stay in sell position\n",
        "                y[i] = -1\n",
        "            else:\n",
        "                # Leave sell position\n",
        "                y[i] = 0\n",
        "        else:\n",
        "            if macdhist_norm[i] < stop_buy:\n",
        "                # Stay in buy position\n",
        "                y[i] = 1\n",
        "            else:\n",
        "                # Leave buy position\n",
        "                y[i] = 0\n",
        "\n",
        "    # Plot strategy\n",
        "    dates = np.arange(len(macdhist))\n",
        "    plt.plot(dates, y,'g', label='Strategy Positions')\n",
        "    plt.bar(dates, macdhist_norm[:, 0], width=1, color='blue', label='MACD histogram')\n",
        "    plt.plot(dates, start_sell * np.ones(len(macdhist)), 'k--', lw=1)\n",
        "    plt.plot(dates, stop_sell * np.ones(len(macdhist)), 'k--', lw=1)\n",
        "    plt.plot(dates, start_buy * np.ones(len(macdhist)), 'k--', lw=1)\n",
        "    plt.plot(dates, stop_buy * np.ones(len(macdhist)), 'k--', lw=1)\n",
        "    plt.xlabel('Days')\n",
        "    plt.xlim((300, 600))\n",
        "    plt.legend()\n",
        "    #plt.savefig('images/AAL_macd.png', bbox_inches='tight')\n",
        "    plt.show()\n",
        "\n",
        "    # Generate input data - technical indicators\n",
        "    ind1 = talib.MIDPOINT(close)    # Overlap: MidPoint over period\n",
        "    ind2 = talib.HT_DCPERIOD(close) # Cycle Indicator Functions:  Hilbert Transform - Dominant Cycle Period\n",
        "    ind3 = talib.MAX(close)         # Math Operator: Highest value over a specified period\n",
        "    ind4 = talib.SIN(close)         # Math Transform: Vector Trigonometric Sin\n",
        "    ind5 = talib.APO(close)         # Momentum: Absolute Price Oscillator\n",
        "\n",
        "    x = np.vstack((macdhist, macd, macdsignal, ind1[-len(macdhist):], ind2[-len(macdhist):],\n",
        "                   ind3[-len(macdhist):], ind4[-len(macdhist):], ind5[-len(macdhist):]))\n",
        "    x = x.T\n",
        "\n",
        "    return x, y\n"
      ],
      "metadata": {
        "id": "m_dW2xav7nF-"
      },
      "execution_count": null,
      "outputs": []
    },
    {
      "cell_type": "code",
      "source": [
        "print(close)\n",
        "print(len(close))\n",
        "close = close[0:500]\n",
        "print(len(close))"
      ],
      "metadata": {
        "colab": {
          "base_uri": "https://localhost:8080/"
        },
        "id": "QoYfJxpH-YMn",
        "outputId": "77cea442-8b0e-4f5f-8d32-f6a5a49b46b6"
      },
      "execution_count": null,
      "outputs": [
        {
          "output_type": "stream",
          "name": "stdout",
          "text": [
            "[13.31779003 13.01294804 14.0322628  ... 31.86093712 31.65210915\n",
            " 31.93054581]\n",
            "1510\n",
            "500\n"
          ]
        }
      ]
    },
    {
      "cell_type": "code",
      "source": [
        "# Implement MACD trading strategy\n",
        "X, y = prepare_dataset(close)\n",
        "\n",
        "\n",
        "\n",
        "# Split dataset\n",
        "n_train = int(X.shape[0] * 0.8)\n",
        "\n",
        "X_train, y_train = X[:n_train], y[:n_train]\n",
        "X_test, y_test = X[n_train:], y[n_train:]\n",
        "\n",
        "\n",
        "# Normalize data\n",
        "scaler = preprocessing.MinMaxScaler()\n",
        "\n",
        "X_train = scaler.fit_transform(X_train)\n",
        "X_test = scaler.transform(X_test)\n",
        "\n",
        "# Encode trading signal with integers between 0 and n-1 classes\n",
        "le = preprocessing.LabelEncoder()\n",
        "\n",
        "y_train = le.fit_transform(y_train)\n",
        "y_test = le.transform(y_test)\n",
        "\n",
        "print(le.classes_)\n",
        "\n",
        "\n",
        "## Create and train the Agent\n",
        "# Variable definiton\n",
        "episodes = 5 #25\n",
        "look_back = 15\n",
        "batch_size = 32\n",
        "action_size = len(le.classes_)\n",
        "n_features = X_train.shape[1]\n",
        "\n",
        "# Create Agent\n",
        "agent = Agent(look_back, action_size, n_features)\n",
        "\n",
        "def run(agent, dataX, dataY, episodes, look_back):\n",
        "    \"\"\"\n",
        "    Function run to train the agent\n",
        "    \"\"\"\n",
        "\n",
        "    # Length of dataset\n",
        "    times = len(dataX)\n",
        "\n",
        "    # List of total rewards\n",
        "    total_reward_list = []\n",
        "\n",
        "    for ep in range(episodes):\n",
        "\n",
        "        # print('Episode: ' + str(ep))\n",
        "\n",
        "        # Initial state and position\n",
        "        state = dataX[:look_back, :][np.newaxis, :, :]\n",
        "        pos = dataY[look_back - 1]\n",
        "\n",
        "        done = False\n",
        "        total_reward = 0\n",
        "\n",
        "        for t in range(1, times - look_back + 1):\n",
        "\n",
        "            # Predict action based on the current state\n",
        "            action = agent.act(state)\n",
        "\n",
        "            # Calculate reward\n",
        "            if action == pos:   # 0:-1      1:0     2:1\n",
        "                reward = +1\n",
        "\n",
        "            elif (pos == 0 or pos == 2):\n",
        "                if action == 1:\n",
        "                    reward = 0\n",
        "                else:\n",
        "                    reward = -1\n",
        "            else:\n",
        "                reward = -1\n",
        "\n",
        "            total_reward += reward\n",
        "\n",
        "            # Final state\n",
        "            if t == times - look_back:\n",
        "                done = True\n",
        "\n",
        "            # Receive next state and position\n",
        "            next_state = dataX[t:t + look_back, :][np.newaxis, :, :]\n",
        "            next_pos = dataY[t + look_back - 1]\n",
        "\n",
        "            # Remember current experience\n",
        "            agent.remember(state, action, reward, next_state, done)\n",
        "\n",
        "            # Make next_state the new current state; the same for pos\n",
        "            state = next_state\n",
        "            pos = next_pos\n",
        "\n",
        "            if done:\n",
        "                print('Episode: %i ---> Total Reward: %i' %(ep, total_reward))\n",
        "                total_reward_list.append(total_reward)\n",
        "\n",
        "            # Train the agent with previous experiences\n",
        "            if len(agent.memory) > batch_size:\n",
        "                agent.replay(batch_size)\n",
        "\n",
        "        if (ep + 1) % 5 == 0 and ep > 0:\n",
        "            file = 'AAL_robot_checkpoint' + str(ep + 1)\n",
        "            # Serialize weights to HDF5\n",
        "            agent.model.save_weights(file + \".h5\")\n",
        "            # Save epsilon\n",
        "            pickle.dump(agent.epsilon, open(file + \"_epsilon.pickle\", \"wb\"))\n",
        "\n",
        "    # Save list of rewards along the epochs\n",
        "    np.savetxt(file + '_total_reward.txt', total_reward_list)\n",
        "\n",
        "    return\n"
      ],
      "metadata": {
        "colab": {
          "base_uri": "https://localhost:8080/",
          "height": 858
        },
        "id": "2rI_j0hO_INu",
        "outputId": "d739530b-82a7-40a4-9a9a-4f949e3c5123"
      },
      "execution_count": null,
      "outputs": [
        {
          "output_type": "display_data",
          "data": {
            "text/plain": [
              "<Figure size 640x480 with 1 Axes>"
            ],
            "image/png": "[encoded data removed]"
          },
          "metadata": {}
        },
        {
          "output_type": "error",
          "ename": "ValueError",
          "evalue": "ignored",
          "traceback": [
            "\u001b[0;31m---------------------------------------------------------------------------\u001b[0m",
            "\u001b[0;31mValueError\u001b[0m                                Traceback (most recent call last)",
            "\u001b[0;32m<ipython-input-15-05d15c17a176>\u001b[0m in \u001b[0;36m<cell line: 23>\u001b[0;34m()\u001b[0m\n\u001b[1;32m     21\u001b[0m \u001b[0;34m\u001b[0m\u001b[0m\n\u001b[1;32m     22\u001b[0m \u001b[0my_train\u001b[0m \u001b[0;34m=\u001b[0m \u001b[0mle\u001b[0m\u001b[0;34m.\u001b[0m\u001b[0mfit_transform\u001b[0m\u001b[0;34m(\u001b[0m\u001b[0my_train\u001b[0m\u001b[0;34m)\u001b[0m\u001b[0;34m\u001b[0m\u001b[0;34m\u001b[0m\u001b[0m\n\u001b[0;32m---> 23\u001b[0;31m \u001b[0my_test\u001b[0m \u001b[0;34m=\u001b[0m \u001b[0mle\u001b[0m\u001b[0;34m.\u001b[0m\u001b[0mtransform\u001b[0m\u001b[0;34m(\u001b[0m\u001b[0my_test\u001b[0m\u001b[0;34m)\u001b[0m\u001b[0;34m\u001b[0m\u001b[0;34m\u001b[0m\u001b[0m\n\u001b[0m\u001b[1;32m     24\u001b[0m \u001b[0;34m\u001b[0m\u001b[0m\n\u001b[1;32m     25\u001b[0m \u001b[0mprint\u001b[0m\u001b[0;34m(\u001b[0m\u001b[0mle\u001b[0m\u001b[0;34m.\u001b[0m\u001b[0mclasses_\u001b[0m\u001b[0;34m)\u001b[0m\u001b[0;34m\u001b[0m\u001b[0;34m\u001b[0m\u001b[0m\n",
            "\u001b[0;32m/usr/local/lib/python3.10/dist-packages/sklearn/utils/_set_output.py\u001b[0m in \u001b[0;36mwrapped\u001b[0;34m(self, X, *args, **kwargs)\u001b[0m\n\u001b[1;32m    138\u001b[0m     \u001b[0;34m@\u001b[0m\u001b[0mwraps\u001b[0m\u001b[0;34m(\u001b[0m\u001b[0mf\u001b[0m\u001b[0;34m)\u001b[0m\u001b[0;34m\u001b[0m\u001b[0;34m\u001b[0m\u001b[0m\n\u001b[1;32m    139\u001b[0m     \u001b[0;32mdef\u001b[0m \u001b[0mwrapped\u001b[0m\u001b[0;34m(\u001b[0m\u001b[0mself\u001b[0m\u001b[0;34m,\u001b[0m \u001b[0mX\u001b[0m\u001b[0;34m,\u001b[0m \u001b[0;34m*\u001b[0m\u001b[0margs\u001b[0m\u001b[0;34m,\u001b[0m \u001b[0;34m**\u001b[0m\u001b[0mkwargs\u001b[0m\u001b[0;34m)\u001b[0m\u001b[0;34m:\u001b[0m\u001b[0;34m\u001b[0m\u001b[0;34m\u001b[0m\u001b[0m\n\u001b[0;32m--> 140\u001b[0;31m         \u001b[0mdata_to_wrap\u001b[0m \u001b[0;34m=\u001b[0m \u001b[0mf\u001b[0m\u001b[0;34m(\u001b[0m\u001b[0mself\u001b[0m\u001b[0;34m,\u001b[0m \u001b[0mX\u001b[0m\u001b[0;34m,\u001b[0m \u001b[0;34m*\u001b[0m\u001b[0margs\u001b[0m\u001b[0;34m,\u001b[0m \u001b[0;34m**\u001b[0m\u001b[0mkwargs\u001b[0m\u001b[0;34m)\u001b[0m\u001b[0;34m\u001b[0m\u001b[0;34m\u001b[0m\u001b[0m\n\u001b[0m\u001b[1;32m    141\u001b[0m         \u001b[0;32mif\u001b[0m \u001b[0misinstance\u001b[0m\u001b[0;34m(\u001b[0m\u001b[0mdata_to_wrap\u001b[0m\u001b[0;34m,\u001b[0m \u001b[0mtuple\u001b[0m\u001b[0;34m)\u001b[0m\u001b[0;34m:\u001b[0m\u001b[0;34m\u001b[0m\u001b[0;34m\u001b[0m\u001b[0m\n\u001b[1;32m    142\u001b[0m             \u001b[0;31m# only wrap the first output for cross decomposition\u001b[0m\u001b[0;34m\u001b[0m\u001b[0;34m\u001b[0m\u001b[0m\n",
            "\u001b[0;32m/usr/local/lib/python3.10/dist-packages/sklearn/preprocessing/_label.py\u001b[0m in \u001b[0;36mtransform\u001b[0;34m(self, y)\u001b[0m\n\u001b[1;32m    137\u001b[0m             \u001b[0;32mreturn\u001b[0m \u001b[0mnp\u001b[0m\u001b[0;34m.\u001b[0m\u001b[0marray\u001b[0m\u001b[0;34m(\u001b[0m\u001b[0;34m[\u001b[0m\u001b[0;34m]\u001b[0m\u001b[0;34m)\u001b[0m\u001b[0;34m\u001b[0m\u001b[0;34m\u001b[0m\u001b[0m\n\u001b[1;32m    138\u001b[0m \u001b[0;34m\u001b[0m\u001b[0m\n\u001b[0;32m--> 139\u001b[0;31m         \u001b[0;32mreturn\u001b[0m \u001b[0m_encode\u001b[0m\u001b[0;34m(\u001b[0m\u001b[0my\u001b[0m\u001b[0;34m,\u001b[0m \u001b[0muniques\u001b[0m\u001b[0;34m=\u001b[0m\u001b[0mself\u001b[0m\u001b[0;34m.\u001b[0m\u001b[0mclasses_\u001b[0m\u001b[0;34m)\u001b[0m\u001b[0;34m\u001b[0m\u001b[0;34m\u001b[0m\u001b[0m\n\u001b[0m\u001b[1;32m    140\u001b[0m \u001b[0;34m\u001b[0m\u001b[0m\n\u001b[1;32m    141\u001b[0m     \u001b[0;32mdef\u001b[0m \u001b[0minverse_transform\u001b[0m\u001b[0;34m(\u001b[0m\u001b[0mself\u001b[0m\u001b[0;34m,\u001b[0m \u001b[0my\u001b[0m\u001b[0;34m)\u001b[0m\u001b[0;34m:\u001b[0m\u001b[0;34m\u001b[0m\u001b[0;34m\u001b[0m\u001b[0m\n",
            "\u001b[0;32m/usr/local/lib/python3.10/dist-packages/sklearn/utils/_encode.py\u001b[0m in \u001b[0;36m_encode\u001b[0;34m(values, uniques, check_unknown)\u001b[0m\n\u001b[1;32m    229\u001b[0m             \u001b[0mdiff\u001b[0m \u001b[0;34m=\u001b[0m \u001b[0m_check_unknown\u001b[0m\u001b[0;34m(\u001b[0m\u001b[0mvalues\u001b[0m\u001b[0;34m,\u001b[0m \u001b[0muniques\u001b[0m\u001b[0;34m)\u001b[0m\u001b[0;34m\u001b[0m\u001b[0;34m\u001b[0m\u001b[0m\n\u001b[1;32m    230\u001b[0m             \u001b[0;32mif\u001b[0m \u001b[0mdiff\u001b[0m\u001b[0;34m:\u001b[0m\u001b[0;34m\u001b[0m\u001b[0;34m\u001b[0m\u001b[0m\n\u001b[0;32m--> 231\u001b[0;31m                 \u001b[0;32mraise\u001b[0m \u001b[0mValueError\u001b[0m\u001b[0;34m(\u001b[0m\u001b[0;34mf\"y contains previously unseen labels: {str(diff)}\"\u001b[0m\u001b[0;34m)\u001b[0m\u001b[0;34m\u001b[0m\u001b[0;34m\u001b[0m\u001b[0m\n\u001b[0m\u001b[1;32m    232\u001b[0m         \u001b[0;32mreturn\u001b[0m \u001b[0mnp\u001b[0m\u001b[0;34m.\u001b[0m\u001b[0msearchsorted\u001b[0m\u001b[0;34m(\u001b[0m\u001b[0muniques\u001b[0m\u001b[0;34m,\u001b[0m \u001b[0mvalues\u001b[0m\u001b[0;34m)\u001b[0m\u001b[0;34m\u001b[0m\u001b[0;34m\u001b[0m\u001b[0m\n\u001b[1;32m    233\u001b[0m \u001b[0;34m\u001b[0m\u001b[0m\n",
            "\u001b[0;31mValueError\u001b[0m: y contains previously unseen labels: [-1.0]"
          ]
        }
      ]
    },
    {
      "cell_type": "code",
      "source": [
        "import numpy as np\n",
        "# Train Agent\n",
        "#run(agent, X_train, y_train, episodes, look_back)\n",
        "\n",
        "# Load rewards\n",
        "total_reward_list = np.loadtxt('checkpoints/AAL_robot_checkpoint' + str(episodes) + '_total_reward.txt')\n",
        "# Plot\n",
        "plt.figure()\n",
        "plt.plot(np.arange(1, episodes+1), total_reward_list)\n",
        "plt.xlabel('Episodes')\n",
        "plt.ylabel('Total Reward')\n",
        "plt.show()"
      ],
      "metadata": {
        "colab": {
          "base_uri": "https://localhost:8080/",
          "height": 263
        },
        "id": "Pco6HtbcBPW1",
        "outputId": "7c9cd940-550b-4bd8-ff5f-0f5cccbf8828"
      },
      "execution_count": null,
      "outputs": [
        {
          "output_type": "error",
          "ename": "NameError",
          "evalue": "ignored",
          "traceback": [
            "\u001b[0;31m---------------------------------------------------------------------------\u001b[0m",
            "\u001b[0;31mNameError\u001b[0m                                 Traceback (most recent call last)",
            "\u001b[0;32m<ipython-input-4-462b8ce7062c>\u001b[0m in \u001b[0;36m<cell line: 6>\u001b[0;34m()\u001b[0m\n\u001b[1;32m      4\u001b[0m \u001b[0;34m\u001b[0m\u001b[0m\n\u001b[1;32m      5\u001b[0m \u001b[0;31m# Load rewards\u001b[0m\u001b[0;34m\u001b[0m\u001b[0;34m\u001b[0m\u001b[0m\n\u001b[0;32m----> 6\u001b[0;31m \u001b[0mtotal_reward_list\u001b[0m \u001b[0;34m=\u001b[0m \u001b[0mnp\u001b[0m\u001b[0;34m.\u001b[0m\u001b[0mloadtxt\u001b[0m\u001b[0;34m(\u001b[0m\u001b[0;34m'checkpoints/AAL_robot_checkpoint'\u001b[0m \u001b[0;34m+\u001b[0m \u001b[0mstr\u001b[0m\u001b[0;34m(\u001b[0m\u001b[0mepisodes\u001b[0m\u001b[0;34m)\u001b[0m \u001b[0;34m+\u001b[0m \u001b[0;34m'_total_reward.txt'\u001b[0m\u001b[0;34m)\u001b[0m\u001b[0;34m\u001b[0m\u001b[0;34m\u001b[0m\u001b[0m\n\u001b[0m\u001b[1;32m      7\u001b[0m \u001b[0;31m# Plot\u001b[0m\u001b[0;34m\u001b[0m\u001b[0;34m\u001b[0m\u001b[0m\n\u001b[1;32m      8\u001b[0m \u001b[0mplt\u001b[0m\u001b[0;34m.\u001b[0m\u001b[0mfigure\u001b[0m\u001b[0;34m(\u001b[0m\u001b[0;34m)\u001b[0m\u001b[0;34m\u001b[0m\u001b[0;34m\u001b[0m\u001b[0m\n",
            "\u001b[0;31mNameError\u001b[0m: name 'episodes' is not defined"
          ]
        }
      ]
    },
    {
      "cell_type": "code",
      "source": [
        "\n",
        "def evaluate(agent, dataX, dataY, look_back):\n",
        "    \"\"\"\n",
        "    Function run to evaluate the trained agent\n",
        "    \"\"\"\n",
        "\n",
        "    # Length of dataset\n",
        "    times = len(dataX)\n",
        "\n",
        "    # Initial state and position\n",
        "    state = dataX[:look_back, :][np.newaxis, :, :]\n",
        "    pos = dataY[look_back - 1]\n",
        "\n",
        "    # List of predicted positions\n",
        "    pos_list = []\n",
        "\n",
        "    done = False\n",
        "    total_reward = 0\n",
        "\n",
        "    for t in range(1, times - look_back + 1):\n",
        "\n",
        "        # Predict action based on the current state\n",
        "        action = agent.act(state)\n",
        "\n",
        "        # Calculate reward\n",
        "        if action == pos:   # 0:-1      1:0     2:1\n",
        "            reward = +1\n",
        "\n",
        "        elif (pos == 0 or pos == 2):\n",
        "            if action == 1:\n",
        "                reward = 0\n",
        "            else:\n",
        "                reward = -1\n",
        "        else:\n",
        "            reward = -1\n",
        "\n",
        "        pos_list.append(action)\n",
        "        total_reward += reward\n",
        "\n",
        "        # Final state\n",
        "        if t == times - look_back:\n",
        "            done = True\n",
        "\n",
        "        # Receive next state and position\n",
        "        next_state = dataX[t:t + look_back, :][np.newaxis, :, :]\n",
        "        next_pos = dataY[t + look_back - 1]\n",
        "\n",
        "        # Remember current experience\n",
        "        agent.remember(state, action, reward, next_state, done)\n",
        "\n",
        "        # Make next_state the new current state; the same for pos\n",
        "        state = next_state\n",
        "        pos = next_pos\n",
        "\n",
        "        if done:\n",
        "            print('Total Reward: %i' % total_reward)\n",
        "\n",
        "    return np.array(pos_list)\n",
        "\n",
        "\n",
        "# Evaluate the model\n",
        "# Make predictions\n",
        "y_pred_test = evaluate(agent, X_test, y_test, look_back)\n",
        "\n",
        "# Calculate and print accuracy\n",
        "acc = accuracy_score(y_test[look_back-1:-1], y_pred_test)\n",
        "\n",
        "print('Accuracy: %.2f %%' % (acc*100))\n",
        "\n",
        "\n",
        "# Calculate and print precision, recall, f1 score and support\n",
        "p, r, f1, s = precision_recall_fscore_support(y_test[look_back-1:-1], y_pred_test, average=None)\n",
        "results = pd.DataFrame({'1-Precision': p, '2-Recall': r, '3-F1 score': f1, '4-Support': s}, index=le.classes_)\n",
        "\n",
        "print(results.round(decimals=3))\n",
        "\n",
        "# Decodificate labels\n",
        "y_true_test = le.inverse_transform(y_test[look_back-1:-1])\n",
        "y_pred_test = le.inverse_transform(y_pred_test)\n",
        "\n",
        "\n",
        "\n",
        "# Plot strategy\n",
        "plt.figure()\n",
        "plt.plot(y_true_test, label='true')\n",
        "plt.plot(y_pred_test, label='pred')\n",
        "plt.legend()\n",
        "plt.show()"
      ],
      "metadata": {
        "colab": {
          "base_uri": "https://localhost:8080/",
          "height": 246
        },
        "id": "wa_q6cHMBa_8",
        "outputId": "66ae4911-04cc-40c1-c57c-71f90f67d923"
      },
      "execution_count": null,
      "outputs": [
        {
          "output_type": "error",
          "ename": "NameError",
          "evalue": "ignored",
          "traceback": [
            "\u001b[0;31m---------------------------------------------------------------------------\u001b[0m",
            "\u001b[0;31mNameError\u001b[0m                                 Traceback (most recent call last)",
            "\u001b[0;32m<ipython-input-1-61113ce71fae>\u001b[0m in \u001b[0;36m<cell line: 62>\u001b[0;34m()\u001b[0m\n\u001b[1;32m     60\u001b[0m \u001b[0;31m# Evaluate the model\u001b[0m\u001b[0;34m\u001b[0m\u001b[0;34m\u001b[0m\u001b[0m\n\u001b[1;32m     61\u001b[0m \u001b[0;31m# Make predictions\u001b[0m\u001b[0;34m\u001b[0m\u001b[0;34m\u001b[0m\u001b[0m\n\u001b[0;32m---> 62\u001b[0;31m \u001b[0my_pred_test\u001b[0m \u001b[0;34m=\u001b[0m \u001b[0mevaluate\u001b[0m\u001b[0;34m(\u001b[0m\u001b[0magent\u001b[0m\u001b[0;34m,\u001b[0m \u001b[0mX_test\u001b[0m\u001b[0;34m,\u001b[0m \u001b[0my_test\u001b[0m\u001b[0;34m,\u001b[0m \u001b[0mlook_back\u001b[0m\u001b[0;34m)\u001b[0m\u001b[0;34m\u001b[0m\u001b[0;34m\u001b[0m\u001b[0m\n\u001b[0m\u001b[1;32m     63\u001b[0m \u001b[0;34m\u001b[0m\u001b[0m\n\u001b[1;32m     64\u001b[0m \u001b[0;31m# Calculate and print accuracy\u001b[0m\u001b[0;34m\u001b[0m\u001b[0;34m\u001b[0m\u001b[0m\n",
            "\u001b[0;31mNameError\u001b[0m: name 'agent' is not defined"
          ]
        }
      ]
    }
  ]
}